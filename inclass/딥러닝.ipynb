{
  "nbformat": 4,
  "nbformat_minor": 0,
  "metadata": {
    "colab": {
      "provenance": [],
      "authorship_tag": "ABX9TyPMnFVDE+3EhhCcFWLFMSXw",
      "include_colab_link": true
    },
    "kernelspec": {
      "name": "python3",
      "display_name": "Python 3"
    },
    "language_info": {
      "name": "python"
    }
  },
  "cells": [
    {
      "cell_type": "markdown",
      "metadata": {
        "id": "view-in-github",
        "colab_type": "text"
      },
      "source": [
        "<a href=\"https://colab.research.google.com/github/geonho27/DEEP_Learning/blob/main/inclass/%EB%94%A5%EB%9F%AC%EB%8B%9D.ipynb\" target=\"_parent\"><img src=\"https://colab.research.google.com/assets/colab-badge.svg\" alt=\"Open In Colab\"/></a>"
      ]
    },
    {
      "cell_type": "code",
      "execution_count": 14,
      "metadata": {
        "colab": {
          "base_uri": "https://localhost:8080/"
        },
        "id": "0X-RAuHgfSbW",
        "outputId": "d1309b5a-e5d3-43a1-ff71-1333cb15cc83"
      },
      "outputs": [
        {
          "output_type": "stream",
          "name": "stdout",
          "text": [
            "[[ 6. 15. 17.]\n",
            " [ 6. 15. 17.]\n",
            " [ 6. 15. 17.]]\n"
          ]
        }
      ],
      "source": [
        "import tensorflow.compat.v1 as tf\n",
        "tf.disable_v2_behavior()\n",
        "\n",
        "a = tf.placeholder(tf.float32)\n",
        "b = tf.placeholder(tf.float32)\n",
        "\n",
        "addOperation = tf.matmul(a, b)\n",
        "\n",
        "init = tf.global_variables_initializer()\n",
        "\n",
        "with tf.compat.v1.Session() as sess:\n",
        "  sess.run(init)\n",
        "  print(sess.run(addOperation, {a: [[1,2,3], [1,2,3], [1,2,3]], b: [[1,5,2], [1,2,3], [1,2,3]]}))"
      ]
    },
    {
      "cell_type": "code",
      "source": [
        "import tensorflow.compat.v1 as tf\n",
        "tf.disable_v2_behavior()\n",
        "\n",
        "a = tf.placeholder(tf.float32)\n",
        "b = tf.constant([5,5,5], tf.float32)\n",
        "addOperation = tf.add(a, b)\n",
        "\n",
        "init = tf.global_variables_initializer()\n",
        "\n",
        "with tf.compat.v1.Session() as sess:\n",
        "  sess.run(init)\n",
        "  print(sess.run(addOperation, {a:[1,2,3]}))"
      ],
      "metadata": {
        "colab": {
          "base_uri": "https://localhost:8080/"
        },
        "id": "9IBwAt7zr6e4",
        "outputId": "7a38c6d7-3e36-4a26-fcaa-7071021227f6"
      },
      "execution_count": 12,
      "outputs": [
        {
          "output_type": "stream",
          "name": "stdout",
          "text": [
            "[6. 7. 8.]\n"
          ]
        }
      ]
    },
    {
      "cell_type": "code",
      "source": [
        "import tensorflow.compat.v1 as tf\n",
        "tf.disable_v2_behavior()\n",
        "\n",
        "a = tf.placeholder(tf.float32)\n",
        "b = tf.constant([5,5,5], tf.float32)\n",
        "addOperation = tf.add(a, b)\n",
        "minusOperation = tf.subtract(a, b)\n",
        "mulOperation = tf.multiply(a, b)\n",
        "divOperation = tf.divide(a, b)\n",
        "\n",
        "init = tf.global_variables_initializer()\n",
        "\n",
        "with tf.compat.v1.Session() as sess:\n",
        "  sess.run(init)\n",
        "  print(sess.run(addOperation, {a: [5,10,20], b: [2, 5, 5]}))\n",
        "  print(sess.run(minusOperation, {a: [5,10,20], b: [2, 5, 5]}))\n",
        "  print(sess.run(mulOperation, {a: [5,10,20], b: [2, 5, 5]}))\n",
        "  print(sess.run(divOperation, {a: [5,10,20], b: [2, 5, 5]}))"
      ],
      "metadata": {
        "colab": {
          "base_uri": "https://localhost:8080/"
        },
        "id": "_e5X-iBCvbOp",
        "outputId": "9015c8aa-65f3-4a52-d5de-d31fd0b32317"
      },
      "execution_count": 20,
      "outputs": [
        {
          "output_type": "stream",
          "name": "stdout",
          "text": [
            "[ 7. 15. 25.]\n",
            "[ 3.  5. 15.]\n",
            "[ 10.  50. 100.]\n",
            "[2.5 2.  4. ]\n"
          ]
        }
      ]
    },
    {
      "cell_type": "code",
      "source": [
        "import tensorflow.compat.v1 as tf\n",
        "tf.disable_v2_behavior()\n",
        "\n",
        "a = tf.placeholder(tf.float32)\n",
        "b = tf.placeholder(tf.float32)\n",
        "addOperation = tf.matmul(a, b)\n",
        "\n",
        "init = tf.global_variables_initializer()\n",
        "\n",
        "with tf.compat.v1.Session() as sess:\n",
        "  sess.run(init)\n",
        "  print(sess.run(addOperation, {a: [[1, 2, 3], [3, 4, 5], [1, 1, 1]], b: [[2, 1],[1,2], [1, 1]] }))\n",
        ""
      ],
      "metadata": {
        "colab": {
          "base_uri": "https://localhost:8080/"
        },
        "id": "S37O0jDvy34G",
        "outputId": "117d231c-3363-4201-a80f-860a8b9c6f3c"
      },
      "execution_count": 24,
      "outputs": [
        {
          "output_type": "stream",
          "name": "stdout",
          "text": [
            "[[ 7.  8.]\n",
            " [15. 16.]\n",
            " [ 4.  4.]]\n"
          ]
        }
      ]
    },
    {
      "cell_type": "code",
      "source": [
        "import tensorflow.compat.v1 as tf\n",
        "tf.disable_v2_behavior()\n",
        "\n",
        "\n",
        "x = tf.Variable(10, name=\"x\")\n",
        "\n",
        "y = tf.Variable(20, name=\"y\")\n",
        "\n",
        "z1 = tf.add(x, y, name = \"z1\")\n",
        "\n",
        "z2 = tf.multiply(x, y, name = \"z2\")\n",
        "\n",
        "z3 = tf.multiply(z1, z2, name = \"z3\")\n",
        "\n",
        "init = tf.global_variables_initializer()\n",
        "with tf.compat.v1.Session() as sess:\n",
        "  sess.run(init)\n",
        "  y = tf.Variable(1)\n",
        "  print(sess.run(z3))\n",
        "\n"
      ],
      "metadata": {
        "colab": {
          "base_uri": "https://localhost:8080/"
        },
        "id": "6hUw4NR905fE",
        "outputId": "70d046e4-939a-4a0c-b218-1225b5eebcff"
      },
      "execution_count": 34,
      "outputs": [
        {
          "output_type": "stream",
          "name": "stdout",
          "text": [
            "6000\n"
          ]
        }
      ]
    }
  ]
}